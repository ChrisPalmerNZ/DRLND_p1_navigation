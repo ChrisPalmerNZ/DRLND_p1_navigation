{
 "cells": [
  {
   "cell_type": "markdown",
   "metadata": {
    "toc": true
   },
   "source": [
    "<h1>Table of Contents<span class=\"tocSkip\"></span></h1>\n",
    "<div class=\"toc\"><ul class=\"toc-item\"><li><span><a href=\"#Navigation\" data-toc-modified-id=\"Navigation-1\">Navigation</a></span><ul class=\"toc-item\"><li><span><a href=\"#1.-Start-the-Environment\" data-toc-modified-id=\"1.-Start-the-Environment-1.1\">1. Start the Environment</a></span></li><li><span><a href=\"#2.-Examine-the-State-and-Action-Spaces\" data-toc-modified-id=\"2.-Examine-the-State-and-Action-Spaces-1.2\">2. Examine the State and Action Spaces</a></span></li><li><span><a href=\"#3.-Take-Random-Actions-in-the-Environment\" data-toc-modified-id=\"3.-Take-Random-Actions-in-the-Environment-1.3\">3. Take Random Actions in the Environment</a></span></li><li><span><a href=\"#4.-It's-Your-Turn!\" data-toc-modified-id=\"4.-It's-Your-Turn!-1.4\">4. It's Your Turn!</a></span><ul class=\"toc-item\"><li><span><a href=\"#4.a.-First-watch-an-untrained-agent\" data-toc-modified-id=\"4.a.-First-watch-an-untrained-agent-1.4.1\">4.a. First watch an untrained agent</a></span></li><li><span><a href=\"#4.b.-Train-the-agent-with-DQN\" data-toc-modified-id=\"4.b.-Train-the-agent-with-DQN-1.4.2\">4.b. Train the agent with DQN</a></span></li></ul></li><li><span><a href=\"#5.-Runs-Summary\" data-toc-modified-id=\"5.-Runs-Summary-1.5\">5. Runs Summary</a></span></li><li><span><a href=\"#6.-Runs-detail\" data-toc-modified-id=\"6.-Runs-detail-1.6\">6. Runs detail</a></span><ul class=\"toc-item\"><li><span><a href=\"#Run-7\" data-toc-modified-id=\"Run-7-1.6.1\">Run 7</a></span></li><li><span><a href=\"#Run-6\" data-toc-modified-id=\"Run-6-1.6.2\">Run 6</a></span></li><li><span><a href=\"#Run-5\" data-toc-modified-id=\"Run-5-1.6.3\">Run 5</a></span></li><li><span><a href=\"#Run-4\" data-toc-modified-id=\"Run-4-1.6.4\">Run 4</a></span></li><li><span><a href=\"#Run-3\" data-toc-modified-id=\"Run-3-1.6.5\">Run 3</a></span></li><li><span><a href=\"#Run-2\" data-toc-modified-id=\"Run-2-1.6.6\">Run 2</a></span></li><li><span><a href=\"#Run-1\" data-toc-modified-id=\"Run-1-1.6.7\">Run 1</a></span></li></ul></li><li><span><a href=\"#7.-Watch-the-trained-Agent\" data-toc-modified-id=\"7.-Watch-the-trained-Agent-1.7\">7. Watch the trained Agent</a></span></li></ul></li><li><span><a href=\"#Appendix\" data-toc-modified-id=\"Appendix-2\">Appendix</a></span></li></ul></div>"
   ]
  },
  {
   "cell_type": "markdown",
   "metadata": {},
   "source": [
    "# Navigation\n",
    "\n",
    "---\n",
    "\n",
    "In this notebook, you will learn how to use the Unity ML-Agents environment for the first project of the [Deep Reinforcement Learning Nanodegree](https://www.udacity.com/course/deep-reinforcement-learning-nanodegree--nd893).\n",
    "\n",
    "## 1. Start the Environment\n",
    "\n",
    "We begin by importing some necessary packages.  If the code cell below returns an error, please revisit the project instructions to double-check that you have installed [Unity ML-Agents](https://github.com/Unity-Technologies/ml-agents/blob/master/docs/Installation.md) and [NumPy](http://www.numpy.org/)."
   ]
  },
  {
   "cell_type": "code",
   "execution_count": 1,
   "metadata": {},
   "outputs": [],
   "source": [
    "from unityagents import UnityEnvironment\n",
    "import numpy as np"
   ]
  },
  {
   "cell_type": "code",
   "execution_count": 2,
   "metadata": {},
   "outputs": [],
   "source": [
    "import torch\n",
    "\n",
    "from collections import deque\n",
    "import matplotlib.pyplot as plt\n",
    "\n",
    "%matplotlib inline"
   ]
  },
  {
   "cell_type": "markdown",
   "metadata": {},
   "source": [
    "Next, we will start the environment!  **_Before running the code cell below_**, change the `file_name` parameter to match the location of the Unity environment that you downloaded.\n",
    "\n",
    "- **Mac**: `\"path/to/Banana.app\"`\n",
    "- **Windows** (x86): `\"path/to/Banana_Windows_x86/Banana.exe\"`\n",
    "- **Windows** (x86_64): `\"path/to/Banana_Windows_x86_64/Banana.exe\"`\n",
    "- **Linux** (x86): `\"path/to/Banana_Linux/Banana.x86\"`\n",
    "- **Linux** (x86_64): `\"path/to/Banana_Linux/Banana.x86_64\"`\n",
    "- **Linux** (x86, headless): `\"path/to/Banana_Linux_NoVis/Banana.x86\"`\n",
    "- **Linux** (x86_64, headless): `\"path/to/Banana_Linux_NoVis/Banana.x86_64\"`\n",
    "\n",
    "For instance, if you are using a Mac, then you downloaded `Banana.app`.  If this file is in the same folder as the notebook, then the line below should appear as follows:\n",
    "```\n",
    "env = UnityEnvironment(file_name=\"Banana.app\")\n",
    "```"
   ]
  },
  {
   "cell_type": "code",
   "execution_count": 3,
   "metadata": {},
   "outputs": [],
   "source": [
    "banapath = \"G:/DeepLearning/Udacity/deep-reinforcement-learning/p1_navigation/Banana/Banana.exe\""
   ]
  },
  {
   "cell_type": "code",
   "execution_count": 4,
   "metadata": {},
   "outputs": [
    {
     "name": "stderr",
     "output_type": "stream",
     "text": [
      "INFO:unityagents:\n",
      "'Academy' started successfully!\n",
      "Unity Academy name: Academy\n",
      "        Number of Brains: 1\n",
      "        Number of External Brains : 1\n",
      "        Lesson number : 0\n",
      "        Reset Parameters :\n",
      "\t\t\n",
      "Unity brain name: BananaBrain\n",
      "        Number of Visual Observations (per agent): 0\n",
      "        Vector Observation space type: continuous\n",
      "        Vector Observation space size (per agent): 37\n",
      "        Number of stacked Vector Observation: 1\n",
      "        Vector Action space type: discrete\n",
      "        Vector Action space size (per agent): 4\n",
      "        Vector Action descriptions: , , , \n"
     ]
    }
   ],
   "source": [
    "env = UnityEnvironment(file_name=banapath)"
   ]
  },
  {
   "cell_type": "markdown",
   "metadata": {},
   "source": [
    "Environments contain **_brains_** which are responsible for deciding the actions of their associated agents. Here we check for the first brain available, and set it as the default brain we will be controlling from Python."
   ]
  },
  {
   "cell_type": "code",
   "execution_count": 10,
   "metadata": {},
   "outputs": [],
   "source": [
    "# get the default brain\n",
    "brain_name = env.brain_names[0]\n",
    "brain = env.brains[brain_name]"
   ]
  },
  {
   "cell_type": "markdown",
   "metadata": {},
   "source": [
    "## 2. Examine the State and Action Spaces\n",
    "\n",
    "The simulation contains a single agent that navigates a large environment.  At each time step, it has four actions at its disposal:\n",
    "- `0` - walk forward \n",
    "- `1` - walk backward\n",
    "- `2` - turn left\n",
    "- `3` - turn right\n",
    "\n",
    "The state space has `37` dimensions and contains the agent's velocity, along with ray-based perception of objects around agent's forward direction.  A reward of `+1` is provided for collecting a yellow banana, and a reward of `-1` is provided for collecting a blue banana. \n",
    "\n",
    "Run the code cell below to print some information about the environment."
   ]
  },
  {
   "cell_type": "code",
   "execution_count": 6,
   "metadata": {},
   "outputs": [
    {
     "name": "stdout",
     "output_type": "stream",
     "text": [
      "Number of agents: 1\n",
      "Number of actions: 4\n",
      "States look like: [1.         0.         0.         0.         0.84408134 0.\n",
      " 0.         1.         0.         0.0748472  0.         1.\n",
      " 0.         0.         0.25755    1.         0.         0.\n",
      " 0.         0.74177343 0.         1.         0.         0.\n",
      " 0.25854847 0.         0.         1.         0.         0.09355672\n",
      " 0.         1.         0.         0.         0.31969345 0.\n",
      " 0.        ]\n",
      "States have length: 37\n"
     ]
    }
   ],
   "source": [
    "# reset the environment\n",
    "env_info = env.reset(train_mode=True)[brain_name]\n",
    "\n",
    "# number of agents in the environment\n",
    "print('Number of agents:', len(env_info.agents))\n",
    "\n",
    "# number of actions\n",
    "action_size = brain.vector_action_space_size\n",
    "print('Number of actions:', action_size)\n",
    "\n",
    "# examine the state space \n",
    "state = env_info.vector_observations[0]\n",
    "print('States look like:', state)\n",
    "state_size = len(state)\n",
    "print('States have length:', state_size)"
   ]
  },
  {
   "cell_type": "markdown",
   "metadata": {},
   "source": [
    "## 3. Take Random Actions in the Environment\n",
    "\n",
    "In the next code cell, you will learn how to use the Python API to control the agent and receive feedback from the environment.\n",
    "\n",
    "Once this cell is executed, you will watch the agent's performance, if it selects an action (uniformly) at random with each time step.  A window should pop up that allows you to observe the agent, as it moves through the environment.  \n",
    "\n",
    "Of course, as part of the project, you'll have to change the code so that the agent is able to use its experience to gradually choose better actions when interacting with the environment!"
   ]
  },
  {
   "cell_type": "code",
   "execution_count": 7,
   "metadata": {},
   "outputs": [
    {
     "name": "stdout",
     "output_type": "stream",
     "text": [
      "Score: 0.0\n"
     ]
    }
   ],
   "source": [
    "env_info = env.reset(train_mode=False)[brain_name] # reset the environment\n",
    "state = env_info.vector_observations[0]            # get the current state\n",
    "score = 0                                          # initialize the score\n",
    "while True:\n",
    "    action = np.random.randint(action_size)        # select an action\n",
    "    env_info = env.step(action)[brain_name]        # send the action to the environment\n",
    "    next_state = env_info.vector_observations[0]   # get the next state\n",
    "    reward = env_info.rewards[0]                   # get the reward\n",
    "    done = env_info.local_done[0]                  # see if episode has finished\n",
    "    score += reward                                # update the score\n",
    "    state = next_state                             # roll over the state to next time step\n",
    "    if done:                                       # exit loop if episode finished\n",
    "        break\n",
    "    \n",
    "print(\"Score: {}\".format(score))"
   ]
  },
  {
   "cell_type": "markdown",
   "metadata": {},
   "source": [
    "When finished, you can close the environment."
   ]
  },
  {
   "cell_type": "code",
   "execution_count": 8,
   "metadata": {},
   "outputs": [],
   "source": [
    "env.close()"
   ]
  },
  {
   "cell_type": "markdown",
   "metadata": {},
   "source": [
    "## 4. It's Your Turn!\n",
    "\n",
    "Now it's your turn to train your own agent to solve the environment!  When training the environment, set `train_mode=True`, so that the line for resetting the environment looks like the following:\n",
    "```python\n",
    "env_info = env.reset(train_mode=True)[brain_name]\n",
    "```"
   ]
  },
  {
   "cell_type": "markdown",
   "metadata": {},
   "source": [
    "### 4.a. First watch an untrained agent"
   ]
  },
  {
   "cell_type": "code",
   "execution_count": 9,
   "metadata": {},
   "outputs": [
    {
     "name": "stdout",
     "output_type": "stream",
     "text": [
      "Score: 0.0\n"
     ]
    }
   ],
   "source": [
    "from dqn_agent import Agent\n",
    "\n",
    "agent = Agent(state_size=37, action_size=4, seed=0, fc1_units = 64, fc2_units = 64)\n",
    "score = 0\n",
    "\n",
    "# watch an untrained agent\n",
    "env_info = env.reset(train_mode=False)[brain_name]\n",
    "state = env_info.vector_observations[0]\n",
    "for j in range(200):\n",
    "    action = agent.act(state).astype(int)\n",
    "    env_info = env.step(action)[brain_name]        # send the action to the environment\n",
    "    next_state = env_info.vector_observations[0]   # get the next state\n",
    "    reward = env_info.rewards[0]                   # get the reward\n",
    "    done = env_info.local_done[0]                  # see if episode has finished\n",
    "    score += reward                                # update the score\n",
    "    state = next_state                             # roll over the state to next time step\n",
    "    if done:                                       # exit loop if episode finished\n",
    "        break\n",
    "    \n",
    "print(\"Score: {}\".format(score))"
   ]
  },
  {
   "cell_type": "code",
   "execution_count": 10,
   "metadata": {},
   "outputs": [],
   "source": [
    "env.close()"
   ]
  },
  {
   "cell_type": "markdown",
   "metadata": {},
   "source": [
    "### 4.b. Train the agent with DQN"
   ]
  },
  {
   "cell_type": "code",
   "execution_count": 11,
   "metadata": {},
   "outputs": [
    {
     "name": "stderr",
     "output_type": "stream",
     "text": [
      "INFO:unityagents:\n",
      "'Academy' started successfully!\n",
      "Unity Academy name: Academy\n",
      "        Number of Brains: 1\n",
      "        Number of External Brains : 1\n",
      "        Lesson number : 0\n",
      "        Reset Parameters :\n",
      "\t\t\n",
      "Unity brain name: BananaBrain\n",
      "        Number of Visual Observations (per agent): 0\n",
      "        Vector Observation space type: continuous\n",
      "        Vector Observation space size (per agent): 37\n",
      "        Number of stacked Vector Observation: 1\n",
      "        Vector Action space type: discrete\n",
      "        Vector Action space size (per agent): 4\n",
      "        Vector Action descriptions: , , , \n"
     ]
    }
   ],
   "source": [
    "env = UnityEnvironment(file_name=banapath)"
   ]
  },
  {
   "cell_type": "code",
   "execution_count": 12,
   "metadata": {},
   "outputs": [],
   "source": [
    "del agent"
   ]
  },
  {
   "cell_type": "code",
   "execution_count": 13,
   "metadata": {},
   "outputs": [],
   "source": [
    "from dqn_agent import Agent\n",
    "agent = Agent(state_size=37, action_size=4, seed=0, fc1_units = 80, fc2_units = 70)"
   ]
  },
  {
   "cell_type": "code",
   "execution_count": 14,
   "metadata": {
    "scrolled": true
   },
   "outputs": [
    {
     "name": "stdout",
     "output_type": "stream",
     "text": [
      "QNetwork(\n",
      "  (fc1): Linear(in_features=37, out_features=80, bias=True)\n",
      "  (fc2): Linear(in_features=80, out_features=70, bias=True)\n",
      "  (fc3): Linear(in_features=70, out_features=4, bias=True)\n",
      ")\n"
     ]
    }
   ],
   "source": [
    "print(agent.qnetwork_local)"
   ]
  },
  {
   "cell_type": "code",
   "execution_count": 15,
   "metadata": {},
   "outputs": [],
   "source": [
    "def dqn(n_episodes=2000, max_t=1000, eps_start=0.990, eps_end=0.01, eps_decay=0.995):\n",
    "    \"\"\"Deep Q-Learning.\n",
    "    \n",
    "    Params\n",
    "    ======\n",
    "        n_episodes (int): maximum number of training episodes\n",
    "        max_t (int): maximum number of timesteps per episode\n",
    "        eps_start (float): starting value of epsilon, for epsilon-greedy action selection\n",
    "        eps_end (float): minimum value of epsilon\n",
    "        eps_decay (float): multiplicative factor (per episode) for decreasing epsilon\n",
    "    \"\"\"\n",
    "    scores = []                        # list containing scores from each episode\n",
    "    scores_avg = []\n",
    "    scores_window = deque(maxlen=100)  # last 100 scores\n",
    "    eps = eps_start \n",
    "    # initialize epsilon\n",
    "    for i_episode in range(1, n_episodes+1):\n",
    "        env_info = env.reset(train_mode = True)[brain_name]\n",
    "        state = env_info.vector_observations[0]\n",
    "        score = 0\n",
    "        for t in range(max_t):\n",
    "            action = agent.act(state, eps).astype(int)\n",
    "            env_info = env.step(action)[brain_name]\n",
    "            next_state = env_info.vector_observations[0]\n",
    "            reward = env_info.rewards[0]\n",
    "            done = env_info.local_done[0]\n",
    "            agent.step(state, action, reward, next_state, done)\n",
    "            state = next_state\n",
    "            score += reward\n",
    "            if done:\n",
    "                break \n",
    "        \n",
    "        scores_window.append(score)       # save most recent score\n",
    "        scores.append(score)              # save most recent score\n",
    "        scores_avg.append(np.mean(scores_window)) # save average of window\n",
    "        \n",
    "        eps = max(eps_end, eps_decay*eps) # decrease epsilon\n",
    "        print('\\rEpisode {}\\tAverage Score: {:.2f}'.format(i_episode, np.mean(scores_window)), end=\"\")\n",
    "        \n",
    "        if i_episode % 100 == 0:\n",
    "            print('\\rEpisode {}\\tAverage Score: {:.2f}'.format(i_episode, np.mean(scores_window)))\n",
    "        \n",
    "        if np.mean(scores_window)>=13.0:\n",
    "            print('\\nEnvironment solved in {:d} episodes!\\tAverage Score: {:.2f}'.format(i_episode-100, np.mean(scores_window)))\n",
    "            torch.save(agent.qnetwork_local.state_dict(), 'checkpoint.pth')\n",
    "            break\n",
    "            \n",
    "    return scores, scores_avg "
   ]
  },
  {
   "cell_type": "code",
   "execution_count": 16,
   "metadata": {},
   "outputs": [
    {
     "name": "stdout",
     "output_type": "stream",
     "text": [
      "Episode 100\tAverage Score: 11.90\n",
      "Episode 109\tAverage Score: 13.01\n",
      "Environment solved in 9 episodes!\tAverage Score: 13.01\n"
     ]
    }
   ],
   "source": [
    "scores, scores_avg = dqn(n_episodes=2000, eps_decay=0.95, eps_end=0.03)"
   ]
  },
  {
   "cell_type": "code",
   "execution_count": 17,
   "metadata": {},
   "outputs": [
    {
     "name": "stdout",
     "output_type": "stream",
     "text": [
      "QNetwork(\n",
      "  (fc1): Linear(in_features=37, out_features=80, bias=True)\n",
      "  (fc2): Linear(in_features=80, out_features=70, bias=True)\n",
      "  (fc3): Linear(in_features=70, out_features=4, bias=True)\n",
      ")\n"
     ]
    },
    {
     "data": {
      "image/png": "[encoded data removed]",
      "text/plain": [
       "<Figure size 432x288 with 1 Axes>"
      ]
     },
     "metadata": {
      "needs_background": "light"
     },
     "output_type": "display_data"
    }
   ],
   "source": [
    "print(agent.qnetwork_local)\n",
    "# plot the scores\n",
    "fig = plt.figure()\n",
    "ax = fig.add_subplot(111)\n",
    "plt.plot(np.arange(len(scores)), scores)\n",
    "plt.plot(scores_avg, color=\"red\")\n",
    "plt.ylabel('Score')\n",
    "plt.xlabel('Episode #')\n",
    "plt.show()"
   ]
  },
  {
   "cell_type": "code",
   "execution_count": 18,
   "metadata": {},
   "outputs": [],
   "source": [
    "env.close()"
   ]
  },
  {
   "cell_type": "markdown",
   "metadata": {},
   "source": [
    "## 5. Runs Summary\n",
    "\n",
    "<img src=\"images/run_results.PNG\" align=\"left\"/>"
   ]
  },
  {
   "cell_type": "markdown",
   "metadata": {},
   "source": [
    "## 6. Runs detail"
   ]
  },
  {
   "cell_type": "markdown",
   "metadata": {},
   "source": [
    "### Run 7\n",
    "```\n",
    "checkpoint_7.pth\n",
    "\n",
    "eps_start=0.990, eps_end=0.03, eps_decay=0.95\n",
    "\n",
    "Episode 100\tAverage Score: 11.90\n",
    "Episode 109\tAverage Score: 13.01\n",
    "Environment solved in 9 episodes!\tAverage Score: 13.01\n",
    "\n",
    "QNetwork(\n",
    "  (fc1): Linear(in_features=37, out_features=80, bias=True)\n",
    "  (fc2): Linear(in_features=80, out_features=70, bias=True)\n",
    "  (fc3): Linear(in_features=70, out_features=4, bias=True)\n",
    ")\n",
    "```\n",
    "<img src=\"images/run_7.PNG\" align=\"left\"/>"
   ]
  },
  {
   "cell_type": "markdown",
   "metadata": {},
   "source": [
    "### Run 6\n",
    "```\n",
    "checkpoint_6.pth\n",
    "\n",
    "eps_start=0.990, eps_end=0.02, eps_decay=0.97\n",
    "\n",
    "Episode 100\tAverage Score: 5.19\n",
    "Episode 200\tAverage Score: 9.930\n",
    "Episode 300\tAverage Score: 12.35\n",
    "Episode 316\tAverage Score: 13.06\n",
    "Environment solved in 216 episodes!\tAverage Score: 13.06\n",
    "\n",
    "QNetwork(\n",
    "  (fc1): Linear(in_features=37, out_features=80, bias=True)\n",
    "  (fc2): Linear(in_features=80, out_features=70, bias=True)\n",
    "  (fc3): Linear(in_features=70, out_features=4, bias=True)\n",
    ")\n",
    "```\n",
    "<img src=\"images/run_6a.PNG\" align=\"left\"/>"
   ]
  },
  {
   "cell_type": "markdown",
   "metadata": {},
   "source": [
    "### Run 5\n",
    "```\n",
    "checkpoint_5.pth\n",
    "\n",
    "eps_start=0.990, eps_end=0.01, eps_decay=0.995\n",
    "\n",
    "Episode 100\tAverage Score: 1.36\n",
    "Episode 200\tAverage Score: 4.81\n",
    "Episode 300\tAverage Score: 8.15\n",
    "Episode 400\tAverage Score: 9.21\n",
    "Episode 483\tAverage Score: 13.06\n",
    "Environment solved in 383 episodes!\tAverage Score: 13.06\n",
    "\n",
    "QNetwork(\n",
    "  (fc1): Linear(in_features=37, out_features=80, bias=True)\n",
    "  (fc2): Linear(in_features=80, out_features=70, bias=True)\n",
    "  (fc3): Linear(in_features=70, out_features=4, bias=True)\n",
    ")\n",
    "```\n",
    "<img src=\"images/run_5.PNG\" align=\"left\"/>"
   ]
  },
  {
   "cell_type": "markdown",
   "metadata": {},
   "source": [
    "### Run 4\n",
    "```\n",
    "checkpoint_4.pth\n",
    "\n",
    "eps_start=0.990, eps_end=0.01, eps_decay=0.995\n",
    "\n",
    "Episode 100\tAverage Score: 0.04\n",
    "Episode 200\tAverage Score: 1.721\n",
    "Episode 300\tAverage Score: 6.04\n",
    "Episode 400\tAverage Score: 9.63\n",
    "Episode 500\tAverage Score: 12.67\n",
    "Episode 537\tAverage Score: 13.02\n",
    "Environment solved in 437 episodes!\tAverage Score: 13.02\n",
    "\n",
    "QNetwork(\n",
    "  (fc1): Linear(in_features=37, out_features=32, bias=True)\n",
    "  (fc2): Linear(in_features=32, out_features=32, bias=True)\n",
    "  (fc3): Linear(in_features=32, out_features=4, bias=True)\n",
    ")\n",
    "```\n",
    "<img src=\"images/run_4.PNG\" align=\"left\"/>"
   ]
  },
  {
   "cell_type": "markdown",
   "metadata": {},
   "source": [
    "### Run 3\n",
    "```\n",
    "checkpoint_3.pth\n",
    "\n",
    "eps_start=1.0, eps_end=0.01, eps_decay=0.995\n",
    "\n",
    "Episode 100\tAverage Score: 0.47\n",
    "Episode 200\tAverage Score: 2.73\n",
    "Episode 300\tAverage Score: 6.52\n",
    "Episode 400\tAverage Score: 9.32\n",
    "Episode 500\tAverage Score: 12.03\n",
    "Episode 526\tAverage Score: 13.04\n",
    "Environment solved in 426 episodes!\tAverage Score: 13.04\n",
    "\n",
    "QNetwork(\n",
    "  (fc1): Linear(in_features=37, out_features=64, bias=True)\n",
    "  (fc2): Linear(in_features=64, out_features=32, bias=True)\n",
    "  (fc3): Linear(in_features=32, out_features=4, bias=True)\n",
    ")\n",
    "```\n",
    "<img src=\"images/run_3.PNG\" align=\"left\"/>"
   ]
  },
  {
   "cell_type": "markdown",
   "metadata": {},
   "source": [
    "### Run 2\n",
    "```\n",
    "checkpoint_2.pth\n",
    "\n",
    "eps_start=1.0, eps_end=0.01, eps_decay=0.995\n",
    "\n",
    "Episode 100\tAverage Score: 0.12\n",
    "Episode 200\tAverage Score: 3.36\n",
    "Episode 300\tAverage Score: 6.55\n",
    "Episode 400\tAverage Score: 10.32\n",
    "Episode 500\tAverage Score: 12.32\n",
    "Episode 579\tAverage Score: 13.04\n",
    "Environment solved in 479 episodes!\tAverage Score: 13.04\n",
    "\n",
    "QNetwork(\n",
    "  (fc1): Linear(in_features=37, out_features=96, bias=True)\n",
    "  (fc2): Linear(in_features=96, out_features=64, bias=True)\n",
    "  (fc3): Linear(in_features=64, out_features=4, bias=True)\n",
    ")\n",
    "```\n",
    "<img src=\"images/run_2.PNG\" align=\"left\"/>"
   ]
  },
  {
   "cell_type": "markdown",
   "metadata": {},
   "source": [
    "### Run 1\n",
    "```\n",
    "checkpoint_1.pth\n",
    "\n",
    "eps_start=1.0, eps_end=0.01, eps_decay=0.995\n",
    "\n",
    "Episode 100\tAverage Score: 1.17\n",
    "Episode 200\tAverage Score: 4.46\n",
    "Episode 300\tAverage Score: 7.39\n",
    "Episode 400\tAverage Score: 10.43\n",
    "Episode 500\tAverage Score: 12.30\n",
    "Episode 568\tAverage Score: 13.03\n",
    "Environment solved in 468 episodes!\tAverage Score: 13.03\n",
    "\n",
    "QNetwork(\n",
    "  (fc1): Linear(in_features=37, out_features=64, bias=True)\n",
    "  (fc2): Linear(in_features=64, out_features=64, bias=True)\n",
    "  (fc3): Linear(in_features=64, out_features=4, bias=True)\n",
    ")\n",
    "```\n",
    "<img src=\"images/run_1.PNG\" align=\"left\"/>"
   ]
  },
  {
   "cell_type": "markdown",
   "metadata": {},
   "source": [
    "## 7. Watch the trained Agent"
   ]
  },
  {
   "cell_type": "code",
   "execution_count": 19,
   "metadata": {},
   "outputs": [],
   "source": [
    "env = UnityEnvironment(file_name=banapath)"
   ]
  },
  {
   "cell_type": "code",
   "execution_count": 5,
   "metadata": {},
   "outputs": [],
   "source": [
    "from dqn_agent import Agent\n",
    "agent = Agent(state_size=37, action_size=4, seed=0, fc1_units = 80, fc2_units = 70)"
   ]
  },
  {
   "cell_type": "code",
   "execution_count": 6,
   "metadata": {
    "scrolled": true
   },
   "outputs": [
    {
     "name": "stdout",
     "output_type": "stream",
     "text": [
      "QNetwork(\n",
      "  (fc1): Linear(in_features=37, out_features=80, bias=True)\n",
      "  (fc2): Linear(in_features=80, out_features=70, bias=True)\n",
      "  (fc3): Linear(in_features=70, out_features=4, bias=True)\n",
      ")\n"
     ]
    }
   ],
   "source": [
    "print(agent.qnetwork_local)"
   ]
  },
  {
   "cell_type": "code",
   "execution_count": 7,
   "metadata": {},
   "outputs": [],
   "source": [
    "chkpoint_file = \"checkpoint.pth\""
   ]
  },
  {
   "cell_type": "code",
   "execution_count": 8,
   "metadata": {},
   "outputs": [
    {
     "data": {
      "text/plain": [
       "IncompatibleKeys(missing_keys=[], unexpected_keys=[])"
      ]
     },
     "execution_count": 8,
     "metadata": {},
     "output_type": "execute_result"
    }
   ],
   "source": [
    "# load the weights from file\n",
    "agent.qnetwork_local.load_state_dict(torch.load(chkpoint_file, \n",
    "                                                map_location=lambda storage, loc: storage))"
   ]
  },
  {
   "cell_type": "code",
   "execution_count": 59,
   "metadata": {},
   "outputs": [
    {
     "name": "stdout",
     "output_type": "stream",
     "text": [
      "Episode 1\tAverage Score: 11.00\n",
      "Episode 2\tAverage Score: 14.50\n",
      "Episode 3\tAverage Score: 15.67\n",
      "Episode 4\tAverage Score: 16.00\n",
      "Episode 5\tAverage Score: 17.80\n",
      "Episode 6\tAverage Score: 18.00\n",
      "Episode 7\tAverage Score: 16.00\n",
      "Episode 8\tAverage Score: 15.12\n",
      "Episode 9\tAverage Score: 15.56\n",
      "Episode 10\tAverage Score: 15.70\n"
     ]
    }
   ],
   "source": [
    "env_info = env.reset(train_mode=False)[brain_name] \n",
    "state = env_info.vector_observations[0] \n",
    "\n",
    "num_episodes = 10\n",
    "scores = []\n",
    "scores_avg = []\n",
    "for i_episode in range(1,num_episodes+1):\n",
    "    env_info = env.reset(train_mode=False)[brain_name] \n",
    "    state = env_info.vector_observations[0]            \n",
    "    score = 0                                          \n",
    "    while True:\n",
    "        action = agent.act(state, eps=0).astype(int)   \n",
    "        env_info = env.step(action)[brain_name]        \n",
    "        next_state = env_info.vector_observations[0]   \n",
    "        reward = env_info.rewards[0]                   \n",
    "        done = env_info.local_done[0]                  \n",
    "\n",
    "        score += reward                                \n",
    "        state = next_state                             \n",
    "        if done:                                       \n",
    "            scores.append(score)\n",
    "            scores_avg.append(np.mean(scores)) \n",
    "            print('\\rEpisode {}\\tAverage Score: {:.2f}'.format(i_episode, np.mean(scores)))\n",
    "            break"
   ]
  },
  {
   "cell_type": "code",
   "execution_count": 60,
   "metadata": {},
   "outputs": [
    {
     "data": {
      "image/png": "[encoded data removed]",
      "text/plain": [
       "<Figure size 432x288 with 1 Axes>"
      ]
     },
     "metadata": {
      "needs_background": "light"
     },
     "output_type": "display_data"
    }
   ],
   "source": [
    "# plot the scores\n",
    "fig = plt.figure()\n",
    "ax = fig.add_subplot(111)\n",
    "#plt.plot(np.arange(len(scores)), scores)\n",
    "plt.plot(np.arange(len(scores)), scores_avg, color=\"red\")\n",
    "plt.ylabel('Score')\n",
    "plt.xlabel('Episode #')\n",
    "ax.set_ylim(ymin=0, ymax = 20)\n",
    "plt.show()"
   ]
  },
  {
   "cell_type": "markdown",
   "metadata": {},
   "source": [
    "With agent trained on run 6:\n",
    "```\n",
    "Episode 1\tAverage Score: 11.00\n",
    "Episode 2\tAverage Score: 14.50\n",
    "Episode 3\tAverage Score: 15.67\n",
    "Episode 4\tAverage Score: 16.00\n",
    "Episode 5\tAverage Score: 17.80\n",
    "Episode 6\tAverage Score: 18.00\n",
    "Episode 7\tAverage Score: 16.00\n",
    "Episode 8\tAverage Score: 15.12\n",
    "Episode 9\tAverage Score: 15.56\n",
    "Episode 10\tAverage Score: 15.70\n",
    "```\n",
    "<img src=\"images/run_6_test_1.PNG\" align=\"left\"/>"
   ]
  },
  {
   "cell_type": "markdown",
   "metadata": {},
   "source": [
    "With agent trained on run 6:\n",
    "```\n",
    "Episode 1\tAverage Score: 17.00\n",
    "Episode 2\tAverage Score: 18.50\n",
    "Episode 3\tAverage Score: 15.33\n",
    "Episode 4\tAverage Score: 12.50\n",
    "Episode 5\tAverage Score: 13.00\n",
    "Episode 6\tAverage Score: 14.17\n",
    "Episode 7\tAverage Score: 15.14\n",
    "Episode 8\tAverage Score: 14.88\n",
    "Episode 9\tAverage Score: 15.33\n",
    "Episode 10\tAverage Score: 15.30\n",
    "```\n",
    "<img src=\"images/run_6_test.PNG\" align=\"left\"/>"
   ]
  },
  {
   "cell_type": "markdown",
   "metadata": {},
   "source": [
    "With agent trained on run 7:\n",
    "```\n",
    "Episode 1\tAverage Score: 22.00\n",
    "Episode 2\tAverage Score: 12.00\n",
    "Episode 3\tAverage Score: 9.33\n",
    "Episode 4\tAverage Score: 10.75\n",
    "Episode 5\tAverage Score: 11.00\n",
    "Episode 6\tAverage Score: 11.33\n",
    "Episode 7\tAverage Score: 12.43\n",
    "Episode 8\tAverage Score: 13.00\n",
    "Episode 9\tAverage Score: 13.11\n",
    "Episode 10\tAverage Score: 13.60\n",
    "```\n",
    "<img src=\"images/run_7_test.PNG\" align=\"left\"/>"
   ]
  },
  {
   "attachments": {
    "image.png": {
     "image/png": "[encoded data removed]"
    }
   },
   "cell_type": "markdown",
   "metadata": {},
   "source": [
    "With agent trained on run 7:\n",
    "```\n",
    "Episode 1\tAverage Score: 6.00\n",
    "Episode 2\tAverage Score: 11.50\n",
    "Episode 3\tAverage Score: 8.67\n",
    "Episode 4\tAverage Score: 10.75\n",
    "Episode 5\tAverage Score: 11.60\n",
    "Episode 6\tAverage Score: 11.33\n",
    "Episode 7\tAverage Score: 12.00\n",
    "Episode 8\tAverage Score: 11.75\n",
    "Episode 9\tAverage Score: 12.56\n",
    "Episode 10\tAverage Score: 13.80\n",
    "```"
   ]
  },
  {
   "cell_type": "markdown",
   "metadata": {},
   "source": [
    "With agent trained on run 1:\n",
    "```\n",
    "Episode 1\tAverage Score: 17.00\n",
    "Episode 2\tAverage Score: 13.50\n",
    "Episode 3\tAverage Score: 12.00\n",
    "Episode 4\tAverage Score: 12.25\n",
    "Episode 5\tAverage Score: 13.40\n",
    "Episode 6\tAverage Score: 12.00\n",
    "Episode 7\tAverage Score: 10.71\n",
    "Episode 8\tAverage Score: 9.50\n",
    "Episode 9\tAverage Score: 10.00\n",
    "Episode 10\tAverage Score: 9.10\n",
    "```\n",
    "<img src=\"images/run_1_test.PNG\" align=\"left\"/>"
   ]
  },
  {
   "cell_type": "markdown",
   "metadata": {},
   "source": [
    "With agent trained on run 5:\n",
    "```\n",
    "Episode 1\tAverage Score: 15.00\n",
    "Episode 2\tAverage Score: 16.00\n",
    "Episode 3\tAverage Score: 12.00\n",
    "Episode 4\tAverage Score: 11.00\n",
    "Episode 5\tAverage Score: 12.00\n",
    "Episode 6\tAverage Score: 10.50\n",
    "Episode 7\tAverage Score: 9.43\n",
    "Episode 8\tAverage Score: 8.88\n",
    "Episode 9\tAverage Score: 9.33\n",
    "Episode 10\tAverage Score: 9.60\n",
    "```\n",
    "<img src=\"images/run_5_test.PNG\" align=\"left\"/>"
   ]
  },
  {
   "cell_type": "code",
   "execution_count": 24,
   "metadata": {},
   "outputs": [
    {
     "name": "stdout",
     "output_type": "stream",
     "text": [
      "Score: 17.0\n"
     ]
    }
   ],
   "source": [
    "env_info = env.reset(train_mode=False)[brain_name] \n",
    "state = env_info.vector_observations[0]            \n",
    "score = 0   \n",
    "scores = []\n",
    "while True:\n",
    "    action = agent.act(state).astype(int)                  \n",
    "    env_info = env.step(action)[brain_name]        \n",
    "    next_state = env_info.vector_observations[0]   \n",
    "    reward = env_info.rewards[0]                   \n",
    "    done = env_info.local_done[0]                  \n",
    "    score += reward                                \n",
    "    scores.append(score)\n",
    "    state = next_state                             \n",
    "    if done:                                       \n",
    "        break\n",
    "    \n",
    "print(\"Score: {}\".format(score))"
   ]
  },
  {
   "cell_type": "code",
   "execution_count": 12,
   "metadata": {},
   "outputs": [
    {
     "name": "stdout",
     "output_type": "stream",
     "text": [
      "Score: 19.0\n"
     ]
    }
   ],
   "source": [
    "env_info = env.reset(train_mode=False)[brain_name] \n",
    "state = env_info.vector_observations[0]            \n",
    "score = 0   \n",
    "scores = []\n",
    "for i_episode in range(1, 1001):\n",
    "    action = agent.act(state).astype(int)                  \n",
    "    env_info = env.step(action)[brain_name]        \n",
    "    next_state = env_info.vector_observations[0]   \n",
    "    reward = env_info.rewards[0]                   \n",
    "    done = env_info.local_done[0]                  \n",
    "    score += reward   \n",
    "    scores.append(score)\n",
    "    state = next_state                             \n",
    "    if done:                                       \n",
    "        break\n",
    "    \n",
    "print(\"Score: {}\".format(score))"
   ]
  },
  {
   "cell_type": "code",
   "execution_count": 14,
   "metadata": {},
   "outputs": [],
   "source": [
    "env.close()"
   ]
  },
  {
   "cell_type": "markdown",
   "metadata": {},
   "source": [
    "# Appendix"
   ]
  },
  {
   "cell_type": "code",
   "execution_count": 26,
   "metadata": {},
   "outputs": [
    {
     "data": {
      "application/javascript": [
       "\n",
       "// Sourced from http://nbviewer.jupyter.org/gist/minrk/5d0946d39d511d9e0b5a\n",
       "\n",
       "$(\"#renumber-button\").parent().remove();\n",
       "\n",
       "function renumber() {\n",
       "    // renumber cells in order\n",
       "    var i=1;\n",
       "    IPython.notebook.get_cells().map(function (cell) {\n",
       "        if (cell.cell_type == 'code') {\n",
       "            // set the input prompt\n",
       "            cell.set_input_prompt(i);\n",
       "            // set the output prompt (in two places)\n",
       "            cell.output_area.outputs.map(function (output) {\n",
       "                if (output.output_type == 'execute_result') {\n",
       "                    output.execution_count = i;\n",
       "                    cell.element.find(\".output_prompt\").text('Out[' + i + ']:');\n",
       "                }\n",
       "            });\n",
       "            i += 1;\n",
       "        }\n",
       "    });\n",
       "}\n",
       "\n",
       "IPython.toolbar.add_buttons_group([{\n",
       "  'label'   : 'Renumber',\n",
       "  'icon'    : 'fa-list-ol',\n",
       "  'callback': renumber,\n",
       "  'id'      : 'renumber-button'\n",
       "}]);\n"
      ],
      "text/plain": [
       "<IPython.core.display.Javascript object>"
      ]
     },
     "metadata": {},
     "output_type": "display_data"
    }
   ],
   "source": [
    "%%javascript\n",
    "\n",
    "// Sourced from http://nbviewer.jupyter.org/gist/minrk/5d0946d39d511d9e0b5a\n",
    "\n",
    "$(\"#renumber-button\").parent().remove();\n",
    "\n",
    "function renumber() {\n",
    "    // renumber cells in order\n",
    "    var i=1;\n",
    "    IPython.notebook.get_cells().map(function (cell) {\n",
    "        if (cell.cell_type == 'code') {\n",
    "            // set the input prompt\n",
    "            cell.set_input_prompt(i);\n",
    "            // set the output prompt (in two places)\n",
    "            cell.output_area.outputs.map(function (output) {\n",
    "                if (output.output_type == 'execute_result') {\n",
    "                    output.execution_count = i;\n",
    "                    cell.element.find(\".output_prompt\").text('Out[' + i + ']:');\n",
    "                }\n",
    "            });\n",
    "            i += 1;\n",
    "        }\n",
    "    });\n",
    "}\n",
    "\n",
    "IPython.toolbar.add_buttons_group([{\n",
    "  'label'   : 'Renumber',\n",
    "  'icon'    : 'fa-list-ol',\n",
    "  'callback': renumber,\n",
    "  'id'      : 'renumber-button'\n",
    "}]);"
   ]
  },
  {
   "cell_type": "code",
   "execution_count": 27,
   "metadata": {},
   "outputs": [],
   "source": []
  }
 ],
 "metadata": {
  "kernelspec": {
   "display_name": "Python 3",
   "language": "python",
   "name": "python3"
  },
  "language_info": {
   "codemirror_mode": {
    "name": "ipython",
    "version": 3
   },
   "file_extension": ".py",
   "mimetype": "text/x-python",
   "name": "python",
   "nbconvert_exporter": "python",
   "pygments_lexer": "ipython3",
   "version": "3.6.6"
  },
  "toc": {
   "base_numbering": 1,
   "nav_menu": {},
   "number_sections": false,
   "sideBar": true,
   "skip_h1_title": false,
   "title_cell": "Table of Contents",
   "title_sidebar": "Contents",
   "toc_cell": true,
   "toc_position": {
    "height": "calc(100% - 180px)",
    "left": "10px",
    "top": "150px",
    "width": "165px"
   },
   "toc_section_display": true,
   "toc_window_display": false
  }
 },
 "nbformat": 4,
 "nbformat_minor": 4
}
